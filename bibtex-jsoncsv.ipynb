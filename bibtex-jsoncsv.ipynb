import bibtexparser
from bibtexparser.bibdatabase import BibDatabase
import csv
import json
import re

def clean_text(text):
    """Clean the text by removing special characters."""
    return re.sub(r'[^\x00-\x7F]+', '', text)

def extract_fields(bib_file):
    """Extract and clean necessary fields from the BibTeX file."""
    with open(bib_file, 'r') as file:
        bib_database = bibtexparser.load(file)

    entries = []
    for entry in bib_database.entries:
        # Clean title and abstract fields
        cleaned_title = clean_text(entry.get('title', 'N/A'))
        cleaned_abstract = clean_text(entry.get('abstract', 'N/A'))

        # Extract and clean fields
        new_entry = {            
            'ID': entry.get('ID', 'unknown'),                # Keep ID
            'title': cleaned_title,                          # Cleaned title
            'abstract': cleaned_abstract                     # Cleaned abstract
        }
        entries.append(new_entry)
    
    return entries

def save_as_csv(entries, output_file):
    """Save entries as CSV."""
    headers = ['ID', 'title', 'abstract']
    with open(output_file, mode='w', newline='', encoding='utf-8') as file:
        writer = csv.DictWriter(file, fieldnames=headers)
        writer.writeheader()
        for entry in entries:
            writer.writerow({
                'ID': entry['ID'], 
                'title': entry['title'], 
                'abstract': entry['abstract']
            })
    print(f"CSV data saved to {output_file}")

def save_as_json(entries, output_file):
    """Save entries as JSON."""
    with open(output_file, 'w') as file:
        json.dump(entries, file, indent=4)
    print(f"JSON data saved to {output_file}")

# Paths to input and output files
bib_file_path = 'B2Bbehavior.bib'
output_csv_file = 'B2Bbehavior.csv'
output_json_file = 'B2Bbehavior.json'

# Extract fields from BibTeX
extracted_entries = extract_fields(bib_file_path)

# Save the extracted entries as CSV and JSON
save_as_csv(extracted_entries, output_csv_file)
save_as_json(extracted_entries, output_json_file)
