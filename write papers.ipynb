{
 "cells": [
  {
   "cell_type": "code",
   "execution_count": 1,
   "metadata": {},
   "outputs": [],
   "source": [
    "from openai import OpenAI\n",
    "client = OpenAI()\n",
    "\n",
    "assistant = client.beta.assistants.create(\n",
    "  name=\"Editor SSCI Journal\",\n",
    "  instructions=\"\"\"You are an academic editor with 30 years of experience, working for the Journal of Information and Processing. Your task is to help write a scholarly paper. The paper must adhere to high standards of academic writing, structure, and formatting, as expected in reputable peer-reviewed journals. Ensure the content is clear, well-organized, and meets the rigorous demands of an academic audience.\n",
    "  \"\"\",\n",
    "  tools=[{\"type\": \"file_search\"}],\n",
    "  model=\"gpt-4o\",\n",
    ")\n"
   ]
  },
  {
   "cell_type": "code",
   "execution_count": 2,
   "metadata": {},
   "outputs": [
    {
     "name": "stdout",
     "output_type": "stream",
     "text": [
      "completed\n",
      "FileCounts(cancelled=0, completed=1, failed=0, in_progress=0, total=1)\n"
     ]
    }
   ],
   "source": [
    "# Create a vector store caled \"Financial Statements\"\n",
    "vector_store = client.beta.vector_stores.create(name=\"bibtext\")\n",
    " \n",
    "# Ready the files for upload to OpenAI\n",
    "file_paths = [\"Abstract_cleaned.json\"]\n",
    "file_streams = [open(path, \"rb\") for path in file_paths]\n",
    " \n",
    "# Use the upload and poll SDK helper to upload the files, add them to the vector store,\n",
    "# and poll the status of the file batch for completion.\n",
    "file_batch = client.beta.vector_stores.file_batches.upload_and_poll(\n",
    "  vector_store_id=vector_store.id, files=file_streams\n",
    ")\n",
    " \n",
    "# You can print the status and the file counts of the batch to see the result of this operation.\n",
    "print(file_batch.status)\n",
    "print(file_batch.file_counts)"
   ]
  },
  {
   "cell_type": "code",
   "execution_count": 3,
   "metadata": {},
   "outputs": [],
   "source": [
    "assistant = client.beta.assistants.update(\n",
    "  assistant_id=assistant.id,\n",
    "  tool_resources={\"file_search\": {\"vector_store_ids\": [vector_store.id]}},\n",
    ")"
   ]
  },
  {
   "cell_type": "code",
   "execution_count": 4,
   "metadata": {},
   "outputs": [
    {
     "name": "stdout",
     "output_type": "stream",
     "text": [
      "None\n"
     ]
    }
   ],
   "source": [
    "\n",
    "# Create a thread and attach the file to the message\n",
    "thread = client.beta.threads.create(\n",
    "  messages=[\n",
    "    {\n",
    "      \"role\": \"user\",\n",
    "      \"content\": \"\"\"\n",
    "        Generative artificial intelligence (GAI) has rapidly evolved in recent years, driven by advances in computational power, particularly through the use of GPUs and neural networks.GAI is now widely applied across various business environments, including sales forecasting by Amazon, fraud detection by Alibaba, recommendation systems by Netflix, and image recognition for autonomous driving by Tesla. Furthermore, GAI can be implemented in numerous business departments, such as customer support through chatbots, fault detection via image recognition even replacing human in those jobs.\n",
    "                \"\"\"\n",
    "    }\n",
    "  ]\n",
    ")\n",
    " \n",
    "# The thread now has a vector store with that file in its tool resources.\n",
    "print(thread.tool_resources.file_search)"
   ]
  },
  {
   "cell_type": "code",
   "execution_count": 5,
   "metadata": {},
   "outputs": [],
   "source": [
    "run = client.beta.threads.runs.create_and_poll(\n",
    "  thread_id=thread.id,\n",
    "  assistant_id=assistant.id,\n",
    "  instructions=\"\"\"\n",
    "  Task:\n",
    "Read and classify all the abstracts in the provided JSON file, identifying the most relevant ones for rewriting the given paragraphs.\n",
    "Rewrite the paragraphs based on the content of the most relevant abstracts, ensuring they align closely with the original information in the paragraphs.\n",
    "Citations: When rewriting the paragraphs:\n",
    "Cite the original sources using their full IDs from the JSON file (e.g., liang_uncovering_2019, gomez-uribe_netflix_2016).\n",
    "Ensure that the citations retain the original source IDs from the file in the final output and are not replaced by numerical placeholders (e.g., [1], [2]).\n",
    "Do not introduce hallucinated citations or unverified references. The citations must be directly linked to the sources from the file.\n",
    "Criteria:\n",
    "Select the abstracts that most closely match the content in your paragraphs, prioritizing relevance and accuracy.\n",
    "Ensure that each citation is directly related to a specific point in the paragraph.\n",
    "Avoid introducing any new or unrelated information from the abstracts.\n",
    "\n",
    "Example of Desired Output:\n",
    "\n",
    "Alibaba integrates GAI into its fraud detection systems, reducing financial risks by identifying fraudulent patterns more efficiently[liang_uncovering_2019].In the entertainment industry, platforms like Netflix utilize GAI-powered recommendation systems, enhancing user engagement by personalizing content suggestions based on viewing habits[gomez-uribe_netflix_2016].\n",
    "\"\"\"\n",
    ")"
   ]
  },
  {
   "cell_type": "code",
   "execution_count": 6,
   "metadata": {},
   "outputs": [
    {
     "name": "stdout",
     "output_type": "stream",
     "text": [
      "SyncCursorPage[Message](data=[Message(id='msg_jiFcJfLEcAbAubyEn3nKS5bD', assistant_id='asst_nYgvWS9oovt1F6V3aZG00iwJ', attachments=[], completed_at=None, content=[TextContentBlock(text=Text(annotations=[FileCitationAnnotation(end_index=629, file_citation=FileCitation(file_id='file-lAueu0lyGVDbWb4n6rO6PJsz'), start_index=616, text='【4:19†source】', type='file_citation'), FileCitationAnnotation(end_index=846, file_citation=FileCitation(file_id='file-lAueu0lyGVDbWb4n6rO6PJsz'), start_index=833, text='【4:19†source】', type='file_citation'), FileCitationAnnotation(end_index=1034, file_citation=FileCitation(file_id='file-lAueu0lyGVDbWb4n6rO6PJsz'), start_index=1021, text='【4:19†source】', type='file_citation'), FileCitationAnnotation(end_index=1244, file_citation=FileCitation(file_id='file-lAueu0lyGVDbWb4n6rO6PJsz'), start_index=1231, text='【4:19†source】', type='file_citation'), FileCitationAnnotation(end_index=1667, file_citation=FileCitation(file_id='file-lAueu0lyGVDbWb4n6rO6PJsz'), start_index=1654, text='【4:12†source】', type='file_citation'), FileCitationAnnotation(end_index=1680, file_citation=FileCitation(file_id='file-lAueu0lyGVDbWb4n6rO6PJsz'), start_index=1667, text='【4:17†source】', type='file_citation'), FileCitationAnnotation(end_index=1898, file_citation=FileCitation(file_id='file-lAueu0lyGVDbWb4n6rO6PJsz'), start_index=1885, text='【4:10†source】', type='file_citation'), FileCitationAnnotation(end_index=1911, file_citation=FileCitation(file_id='file-lAueu0lyGVDbWb4n6rO6PJsz'), start_index=1898, text='【4:11†source】', type='file_citation')], value=\"Generative artificial intelligence (GAI) has rapidly evolved in recent years, driven by advances in computational power, particularly through the use of GPUs and neural networks. GAI is now widely applied across various business environments, including sales forecasting by Amazon, fraud detection by Alibaba, recommendation systems by Netflix, and image recognition for autonomous driving by Tesla. For instance, Amazon uses time series modeling techniques like Holt-Winters exponential smoothing, neural network autoregression, and ARIMA to predict future sales, which helps in managing operations more efficiently【4:19†source】. Alibaba employs innovative graph learning algorithms to detect and prevent fraudulent claims by analyzing network information, significantly improving precision and coverage compared to previous methods【4:19†source】. Netflix leverages a combination of A/B testing and historical engagement data to enhance its recommendation algorithms, focusing on improving member retention and engagement【4:19†source】. Tesla's autonomous driving technology benefits from drivers' trust in systems like Autopilot and Summon, which is crucial for the real-world use and adoption of these advanced assistance features【4:19†source】.\\n\\nFurthermore, GAI can be implemented in numerous business departments, such as customer support through chatbots, and fault detection via image recognition, even replacing humans in these jobs. AI-based chatbots significantly affect user compliance through verbal anthropomorphic design cues, and their effectiveness in customer service is enhanced by fostering user trust via perceived warmth and competence【4:12†source】【4:17†source】. The integration of AI in these areas not only boosts operational efficiency but also enriches customer experiences, effectively handling queries and detecting issues that once required human intervention【4:10†source】【4:11†source】.\"), type='text')], created_at=1726802233, incomplete_at=None, incomplete_details=None, metadata={}, object='thread.message', role='assistant', run_id='run_mAK17jsEHfhfzVrjMKi3rxTn', status=None, thread_id='thread_jumrbbdS2OVXHJHFit3f8pml'), Message(id='msg_gye83MKbLuN7fRxix7BBBfqO', assistant_id=None, attachments=[], completed_at=None, content=[TextContentBlock(text=Text(annotations=[], value='\\n        Generative artificial intelligence (GAI) has rapidly evolved in recent years, driven by advances in computational power, particularly through the use of GPUs and neural networks.GAI is now widely applied across various business environments, including sales forecasting by Amazon, fraud detection by Alibaba, recommendation systems by Netflix, and image recognition for autonomous driving by Tesla. Furthermore, GAI can be implemented in numerous business departments, such as customer support through chatbots, fault detection via image recognition even replacing human in those jobs.\\n                '), type='text')], created_at=1726802229, incomplete_at=None, incomplete_details=None, metadata={}, object='thread.message', role='user', run_id=None, status=None, thread_id='thread_jumrbbdS2OVXHJHFit3f8pml')], object='list', first_id='msg_jiFcJfLEcAbAubyEn3nKS5bD', last_id='msg_gye83MKbLuN7fRxix7BBBfqO', has_more=False)\n"
     ]
    }
   ],
   "source": [
    "if run.status == 'completed': \n",
    "  messages = client.beta.threads.messages.list(\n",
    "    thread_id=thread.id\n",
    "  )\n",
    "  print(messages)\n",
    "else:\n",
    "  print(run.status)"
   ]
  },
  {
   "cell_type": "code",
   "execution_count": 7,
   "metadata": {},
   "outputs": [
    {
     "name": "stdout",
     "output_type": "stream",
     "text": [
      "Generative artificial intelligence (GAI) has rapidly evolved in recent years, driven by advances in computational power, particularly through the use of GPUs and neural networks. GAI is now widely applied across various business environments, including sales forecasting by Amazon, fraud detection by Alibaba, recommendation systems by Netflix, and image recognition for autonomous driving by Tesla. For instance, Amazon uses time series modeling techniques like Holt-Winters exponential smoothing, neural network autoregression, and ARIMA to predict future sales, which helps in managing operations more efficiently【4:19†source】. Alibaba employs innovative graph learning algorithms to detect and prevent fraudulent claims by analyzing network information, significantly improving precision and coverage compared to previous methods【4:19†source】. Netflix leverages a combination of A/B testing and historical engagement data to enhance its recommendation algorithms, focusing on improving member retention and engagement【4:19†source】. Tesla's autonomous driving technology benefits from drivers' trust in systems like Autopilot and Summon, which is crucial for the real-world use and adoption of these advanced assistance features【4:19†source】.\n",
      "\n",
      "Furthermore, GAI can be implemented in numerous business departments, such as customer support through chatbots, and fault detection via image recognition, even replacing humans in these jobs. AI-based chatbots significantly affect user compliance through verbal anthropomorphic design cues, and their effectiveness in customer service is enhanced by fostering user trust via perceived warmth and competence【4:12†source】【4:17†source】. The integration of AI in these areas not only boosts operational efficiency but also enriches customer experiences, effectively handling queries and detecting issues that once required human intervention【4:10†source】【4:11†source】.\n",
      "\n",
      "        Generative artificial intelligence (GAI) has rapidly evolved in recent years, driven by advances in computational power, particularly through the use of GPUs and neural networks.GAI is now widely applied across various business environments, including sales forecasting by Amazon, fraud detection by Alibaba, recommendation systems by Netflix, and image recognition for autonomous driving by Tesla. Furthermore, GAI can be implemented in numerous business departments, such as customer support through chatbots, fault detection via image recognition even replacing human in those jobs.\n",
      "                \n"
     ]
    }
   ],
   "source": [
    "for msg in messages.data:\n",
    "    for content_block in msg.content:\n",
    "        if hasattr(content_block, 'text'):\n",
    "            print(content_block.text.value)"
   ]
  }
 ],
 "metadata": {
  "kernelspec": {
   "display_name": "Python 3",
   "language": "python",
   "name": "python3"
  },
  "language_info": {
   "codemirror_mode": {
    "name": "ipython",
    "version": 3
   },
   "file_extension": ".py",
   "mimetype": "text/x-python",
   "name": "python",
   "nbconvert_exporter": "python",
   "pygments_lexer": "ipython3",
   "version": "3.10.12"
  }
 },
 "nbformat": 4,
 "nbformat_minor": 2
}
